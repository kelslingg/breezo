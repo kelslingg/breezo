{
 "cells": [
  {
   "cell_type": "code",
   "execution_count": 7,
   "id": "5f8fe869-3433-49ec-96e8-4b39797825d8",
   "metadata": {},
   "outputs": [
    {
     "name": "stdout",
     "output_type": "stream",
     "text": [
      "Model and tools loaded.\n"
     ]
    }
   ],
   "source": [
    "import joblib\n",
    "\n",
    "model = joblib.load(\"disease_model.pkl\")\n",
    "tfidf = joblib.load(\"tfidf_vectorizer.pkl\")\n",
    "label_encoders = joblib.load(\"label_encoders.pkl\")\n",
    "disease_encoder = joblib.load(\"disease_encoder.pkl\")\n",
    "\n",
    "print(\"Model and tools loaded.\")\n"
   ]
  },
  {
   "cell_type": "code",
   "execution_count": null,
   "id": "57fa8369-abf8-49cd-a119-acbc079320ef",
   "metadata": {},
   "outputs": [],
   "source": [
    "\n",
    "import numpy as np\n",
    "\n",
    "def predict_disease(symptom_text, age, sex_text, top_n=5):\n",
    "   \n",
    "    symptom_vec = tfidf.transform([symptom_text])\n",
    "\n",
    "    age_array = np.array([[age]])\n",
    "    sex_encoded = label_encoders['Sex'].transform([sex_text])\n",
    "    sex_array = np.array(sex_encoded).reshape(-1, 1)\n",
    "\n",
    "    from . import hstack\n",
    "    full_input = hstack([symptom_vec, age_array, sex_array])\n",
    "\n",
    "    probas = model.predict_proba(full_input)[0]\n",
    "\n",
    "    disease_names = disease_encoder.inverse_transform(np.arange(len(probas)))\n",
    "\n",
    "    results = list(zip(disease_names, probas))\n",
    "    results.sort(key=lambda x: x[1], reverse=True)\n",
    "\n",
    "    print(\"\\nTop disease probabilities:\")\n",
    "    for disease, prob in results[:top_n]:\n",
    "        print(f\"{disease}: {prob*100:.2f}%\")\n"
   ]
  },
  {
   "cell_type": "code",
   "execution_count": 9,
   "id": "57cea000-dbde-4035-be90-a4849d1617e3",
   "metadata": {},
   "outputs": [
    {
     "name": "stdout",
     "output_type": "stream",
     "text": [
      "\n",
      "Top disease probabilities:\n",
      "Asthma: 47.00%\n",
      "Bronchiectasis: 18.00%\n",
      "Asbestosis: 14.00%\n",
      "Acute Respiratory Distress Syndrome: 8.00%\n",
      "Respiratory syncytial virus: 8.00%\n"
     ]
    }
   ],
   "source": [
    "predict_disease(\"shortness of breath and coughing\", 30, \"female\")"
   ]
  },
  {
   "cell_type": "code",
   "execution_count": null,
   "id": "63b1eb88-82d1-4558-963b-759042e13c39",
   "metadata": {},
   "outputs": [],
   "source": []
  }
 ],
 "metadata": {
  "kernelspec": {
   "display_name": "Python 3 (ipykernel)",
   "language": "python",
   "name": "python3"
  },
  "language_info": {
   "codemirror_mode": {
    "name": "ipython",
    "version": 3
   },
   "file_extension": ".py",
   "mimetype": "text/x-python",
   "name": "python",
   "nbconvert_exporter": "python",
   "pygments_lexer": "ipython3",
   "version": "3.13.2"
  }
 },
 "nbformat": 4,
 "nbformat_minor": 5
}
